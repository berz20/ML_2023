{
 "cells": [
  {
   "cell_type": "markdown",
   "id": "0RY-VOtneh9w",
   "metadata": {
    "id": "0RY-VOtneh9w"
   },
   "source": [
    "# A simple example to demonstrate Pandas data frames\n",
    "\n",
    "[Pandas](https://pandas.pydata.org/) is a data analysis library for Python. The aim of this notebook is to read the summary page of the [Living Review of Machine Learning for Particle Physics](https://iml-wg.github.io/HEPML-LivingReview/) into a pandas data frame and perform some basic statistical analysis. We will read in the text and process with a language processing toolkit 'nltk'.\n",
    "\n",
    "We will try to answer the following questions\n",
    "\n",
    "* How many articles are included in the reivew?\n",
    "* What are the most common words in the article titles?\n",
    "* How do the trends in common terms change with arxiv date?\n"
   ]
  },
  {
   "cell_type": "code",
   "execution_count": 49,
   "id": "a0e97c0f",
   "metadata": {
    "executionInfo": {
     "elapsed": 1612,
     "status": "ok",
     "timestamp": 1697814384920,
     "user": {
      "displayName": "Simon Badger",
      "userId": "02895886995126458953"
     },
     "user_tz": -120
    },
    "id": "a0e97c0f"
   },
   "outputs": [],
   "source": [
    "import re\n",
    "import string\n",
    "# natural language toolkit\n",
    "import nltk\n",
    "\n",
    "import pandas as pd\n",
    "import numpy as np\n",
    "import matplotlib.pyplot as plt\n",
    "\n",
    "from collections import Counter\n",
    "from nltk.tokenize import word_tokenize\n",
    "from nltk.corpus import stopwords\n",
    "\n",
    "DOWNLOAD_DIR = '/home/berz/Documents/Programs/PYTHON/nltk_data/'\n",
    "nltk.data.path.append(DOWNLOAD_DIR)\n"
   ]
  },
  {
   "cell_type": "code",
   "execution_count": 50,
   "id": "66f2e86f",
   "metadata": {
    "colab": {
     "base_uri": "https://localhost:8080/"
    },
    "executionInfo": {
     "elapsed": 321,
     "status": "ok",
     "timestamp": 1697814387842,
     "user": {
      "displayName": "Simon Badger",
      "userId": "02895886995126458953"
     },
     "user_tz": -120
    },
    "id": "66f2e86f",
    "outputId": "28ced022-fd00-4881-b805-50fbe631c51a"
   },
   "outputs": [
    {
     "name": "stderr",
     "output_type": "stream",
     "text": [
      "[nltk_data] Downloading package punkt to\n",
      "[nltk_data]     /home/berz/Documents/Programs/PYTHON/nltk_data/...\n",
      "[nltk_data]   Package punkt is already up-to-date!\n",
      "[nltk_data] Downloading package stopwords to\n",
      "[nltk_data]     /home/berz/Documents/Programs/PYTHON/nltk_data/...\n",
      "[nltk_data]   Package stopwords is already up-to-date!\n"
     ]
    }
   ],
   "source": [
    "nltk.download('punkt', download_dir=DOWNLOAD_DIR)\n",
    "nltk.download('stopwords', download_dir=DOWNLOAD_DIR)\n",
    "\n",
    "STOP_WORDS = stopwords.words()"
   ]
  },
  {
   "cell_type": "code",
   "execution_count": 51,
   "id": "676c9f18",
   "metadata": {
    "executionInfo": {
     "elapsed": 441,
     "status": "ok",
     "timestamp": 1697814389973,
     "user": {
      "displayName": "Simon Badger",
      "userId": "02895886995126458953"
     },
     "user_tz": -120
    },
    "id": "676c9f18"
   },
   "outputs": [],
   "source": [
    "%matplotlib inline"
   ]
  },
  {
   "cell_type": "code",
   "execution_count": 52,
   "id": "Az-9G7N_omnm",
   "metadata": {
    "colab": {
     "base_uri": "https://localhost:8080/"
    },
    "executionInfo": {
     "elapsed": 398,
     "status": "ok",
     "timestamp": 1697814690390,
     "user": {
      "displayName": "Simon Badger",
      "userId": "02895886995126458953"
     },
     "user_tz": -120
    },
    "id": "Az-9G7N_omnm",
    "outputId": "90061924-6fc4-481b-f4a8-7786d03838b1"
   },
   "outputs": [
    {
     "name": "stdout",
     "output_type": "stream",
     "text": [
      "/home/berz/Documents/UNI/Magistrale/MAG_2/ML/ML_2023/src/Lecture_08/PandasExample\n"
     ]
    }
   ],
   "source": [
    "import sys\n",
    "sys.path.append('../../Lecture_08/PandasExample/')\n",
    "%cd ../../Lecture_08/PandasExample/"
   ]
  },
  {
   "cell_type": "markdown",
   "id": "iuawMIEIkQtB",
   "metadata": {
    "id": "iuawMIEIkQtB"
   },
   "source": [
    "* First we defining a function which will clean spurious/useless text from each line"
   ]
  },
  {
   "cell_type": "code",
   "execution_count": 53,
   "id": "a1a38e2c",
   "metadata": {
    "executionInfo": {
     "elapsed": 352,
     "status": "ok",
     "timestamp": 1697814700037,
     "user": {
      "displayName": "Simon Badger",
      "userId": "02895886995126458953"
     },
     "user_tz": -120
    },
    "id": "a1a38e2c"
   },
   "outputs": [],
   "source": [
    "def cleaning(text):\n",
    "    \"\"\"\n",
    "    Convert to lowercase.\n",
    "    remove URL links, special characters and punctuation.\n",
    "    Tokenize and remove stop words.\n",
    "    \"\"\"\n",
    "\n",
    "    text = re.sub('https?://\\S+|www\\.\\S+', '', text)\n",
    "    text = re.sub('<.*?>+', '', text)\n",
    "    text = re.sub('[%s]' % re.escape(string.punctuation), '', text)\n",
    "    text = re.sub('\\n', '', text)\n",
    "    text = re.sub('[’“”…]', '', text)\n",
    "\n",
    "    # removing the stop-words\n",
    "    text_tokens = word_tokenize(text)\n",
    "    tokens_without_sw = [\n",
    "        word for word in text_tokens if not word in STOP_WORDS]\n",
    "    filtered_sentence = (\" \").join(tokens_without_sw)\n",
    "    text = filtered_sentence\n",
    "\n",
    "    return text"
   ]
  },
  {
   "cell_type": "code",
   "execution_count": 54,
   "id": "b8fb6ebb",
   "metadata": {
    "executionInfo": {
     "elapsed": 2,
     "status": "ok",
     "timestamp": 1697814700787,
     "user": {
      "displayName": "Simon Badger",
      "userId": "02895886995126458953"
     },
     "user_tz": -120
    },
    "id": "b8fb6ebb"
   },
   "outputs": [],
   "source": [
    "# README.md taken from https://github.com/iml-wg/HEPML-LivingReview\n",
    "with open('README.md', 'r') as file:\n",
    "        data = file.read()"
   ]
  },
  {
   "cell_type": "markdown",
   "id": "lNqjJNNipS59",
   "metadata": {
    "id": "lNqjJNNipS59"
   },
   "source": [
    "* Now read the whole file into a Pandas data frame which is split by line breaks"
   ]
  },
  {
   "cell_type": "code",
   "execution_count": 55,
   "id": "24857791",
   "metadata": {
    "executionInfo": {
     "elapsed": 411,
     "status": "ok",
     "timestamp": 1697814708556,
     "user": {
      "displayName": "Simon Badger",
      "userId": "02895886995126458953"
     },
     "user_tz": -120
    },
    "id": "24857791"
   },
   "outputs": [],
   "source": [
    "df = pd.DataFrame([x.split(';') for x in data.split('\\n')])"
   ]
  },
  {
   "cell_type": "markdown",
   "id": "R7n-6UNypm_I",
   "metadata": {
    "id": "R7n-6UNypm_I"
   },
   "source": [
    "* Let's see what we've got with df.info()"
   ]
  },
  {
   "cell_type": "code",
   "execution_count": 56,
   "id": "Yqm9Hyg5prB_",
   "metadata": {
    "colab": {
     "base_uri": "https://localhost:8080/"
    },
    "executionInfo": {
     "elapsed": 466,
     "status": "ok",
     "timestamp": 1697814856513,
     "user": {
      "displayName": "Simon Badger",
      "userId": "02895886995126458953"
     },
     "user_tz": -120
    },
    "id": "Yqm9Hyg5prB_",
    "outputId": "ff61f040-5783-4fe5-e155-746f18eab442"
   },
   "outputs": [
    {
     "name": "stdout",
     "output_type": "stream",
     "text": [
      "<class 'pandas.core.frame.DataFrame'>\n",
      "RangeIndex: 1608 entries, 0 to 1607\n",
      "Data columns (total 1 columns):\n",
      " #   Column  Non-Null Count  Dtype \n",
      "---  ------  --------------  ----- \n",
      " 0   0       1608 non-null   object\n",
      "dtypes: object(1)\n",
      "memory usage: 12.7+ KB\n"
     ]
    }
   ],
   "source": [
    "df.info()"
   ]
  },
  {
   "cell_type": "markdown",
   "id": "6HrIbLUHp4IR",
   "metadata": {
    "id": "6HrIbLUHp4IR"
   },
   "source": [
    "From this we can see the number of lines and look at the their contents using df[<data #>]. From the line-by-line split there is only 1 data entry with two columns: line number and the text from that line"
   ]
  },
  {
   "cell_type": "code",
   "execution_count": 57,
   "id": "4a09deb1",
   "metadata": {},
   "outputs": [
    {
     "data": {
      "text/plain": [
       "0       #  **A Living Review of Machine Learning for P...\n",
       "1                                                        \n",
       "2       *Modern machine learning techniques, including...\n",
       "3                                                        \n",
       "4       [![download](https://img.shields.io/badge/down...\n",
       "                              ...                        \n",
       "1603                                                     \n",
       "1604    * [Measurement of lepton-jet correlation in de...\n",
       "1605    * [Unbinned Deep Learning Jet Substructure Mea...\n",
       "1606                                                     \n",
       "1607                                                     \n",
       "Name: 0, Length: 1608, dtype: object"
      ]
     },
     "execution_count": 57,
     "metadata": {},
     "output_type": "execute_result"
    }
   ],
   "source": [
    "df[0]"
   ]
  },
  {
   "cell_type": "markdown",
   "id": "c324c5a4",
   "metadata": {},
   "source": [
    "The Length is indicative of the number of articles but not exactly since there are alse section headings and other descriptions included.\n",
    "\n",
    "Q: Can you filter the text to find the number of articles?"
   ]
  },
  {
   "cell_type": "code",
   "execution_count": 58,
   "id": "1ed2ea62",
   "metadata": {},
   "outputs": [
    {
     "name": "stdout",
     "output_type": "stream",
     "text": [
      "1347\n"
     ]
    }
   ],
   "source": [
    "pattern = r'\\* \\[(.*?)\\]'\n",
    "\n",
    "def is_article(row):\n",
    "    return re.search(pattern, row[0]) is not None\n",
    "\n",
    "df_article = df[df.apply(is_article, axis=1)]\n",
    "\n",
    "print(len(df_article))"
   ]
  },
  {
   "cell_type": "code",
   "execution_count": 59,
   "id": "53a78dd1",
   "metadata": {},
   "outputs": [
    {
     "data": {
      "text/plain": [
       "0\n",
       "True     1347\n",
       "False     261\n",
       "Name: count, dtype: int64"
      ]
     },
     "execution_count": 59,
     "metadata": {},
     "output_type": "execute_result"
    }
   ],
   "source": [
    "df[0].str.startswith('* [').value_counts()"
   ]
  },
  {
   "cell_type": "markdown",
   "id": "b902a7c6",
   "metadata": {},
   "source": [
    "## Counting occurances of keywords"
   ]
  },
  {
   "cell_type": "code",
   "execution_count": 60,
   "id": "bae479c6",
   "metadata": {
    "executionInfo": {
     "elapsed": 3,
     "status": "ok",
     "timestamp": 1697814709195,
     "user": {
      "displayName": "Simon Badger",
      "userId": "02895886995126458953"
     },
     "user_tz": -120
    },
    "id": "bae479c6"
   },
   "outputs": [],
   "source": [
    "# Now put everything in lower case\n",
    "df['text'] = df[0].str.lower()"
   ]
  },
  {
   "cell_type": "code",
   "execution_count": 61,
   "id": "42c0070e",
   "metadata": {
    "executionInfo": {
     "elapsed": 1997,
     "status": "ok",
     "timestamp": 1697814711190,
     "user": {
      "displayName": "Simon Badger",
      "userId": "02895886995126458953"
     },
     "user_tz": -120
    },
    "id": "42c0070e"
   },
   "outputs": [],
   "source": [
    "# and filter the words according to the rules definied above\n",
    "dt = df['text'].apply(cleaning)"
   ]
  },
  {
   "cell_type": "code",
   "execution_count": 62,
   "id": "5b7d0893",
   "metadata": {
    "colab": {
     "base_uri": "https://localhost:8080/"
    },
    "executionInfo": {
     "elapsed": 3,
     "status": "ok",
     "timestamp": 1697814711190,
     "user": {
      "displayName": "Simon Badger",
      "userId": "02895886995126458953"
     },
     "user_tz": -120
    },
    "id": "5b7d0893",
    "outputId": "3f623252-eed6-4abb-8aa3-7b67966ab59c"
   },
   "outputs": [
    {
     "name": "stdout",
     "output_type": "stream",
     "text": [
      "              Word  Frequency\n",
      "0         learning        414\n",
      "1           neural        261\n",
      "2          machine        254\n",
      "3         networks        219\n",
      "4          physics        202\n",
      "5             deep        166\n",
      "6              jet        142\n",
      "7         particle        116\n",
      "8           energy        105\n",
      "9          network         91\n",
      "10             lhc         84\n",
      "11           graph         79\n",
      "12  reconstruction         78\n",
      "13            high         73\n",
      "14      generative         73\n",
      "15       detection         72\n",
      "16           event         64\n",
      "17  classification         59\n",
      "18         anomaly         58\n",
      "19          models         55\n",
      "20         tagging         54\n",
      "21            data         52\n",
      "22      simulation         50\n",
      "23        detector         50\n",
      "24            fast         50\n",
      "25            jets         48\n",
      "26        collider         47\n",
      "27      collisions         47\n",
      "28         quantum         46\n",
      "29          search         45\n"
     ]
    }
   ],
   "source": [
    "# now we can split into words and count the frequency\n",
    "word_count = Counter(\" \".join(dt).split()).most_common(30)\n",
    "word_frequency = pd.DataFrame(word_count, columns = ['Word', 'Frequency'])\n",
    "print(word_frequency)"
   ]
  },
  {
   "cell_type": "markdown",
   "id": "2b425800",
   "metadata": {},
   "source": [
    "# Looking at the appearance of keywords over time\n",
    "\n",
    "For this analysis, a new file was prepared by passing regular expression pattern matching on the original README.md using vim.\n",
    "\n",
    "Exercise: Achieve the same result processing only in Python"
   ]
  },
  {
   "cell_type": "code",
   "execution_count": 63,
   "id": "0e375887",
   "metadata": {},
   "outputs": [
    {
     "name": "stdout",
     "output_type": "stream",
     "text": [
      "Processing done\n"
     ]
    }
   ],
   "source": [
    "# Read the README.md file\n",
    "with open('README.md', 'r') as file:\n",
    "    readme_content = file.read()\n",
    "\n",
    "# Delete lines that do not contain the pattern \"* [\"\n",
    "readme_content = re.sub(r'^(?!.*\\* \\[).*\\n', '', readme_content, flags=re.M)\n",
    "\n",
    "# Define the regular expression pattern to match the lines in your specific format\n",
    "pattern = r'\\* \\[([^\\]]*)\\].*?/(\\d{2})(\\d{2}).*'\n",
    "\n",
    "# Use re.findall to extract information from the matching lines\n",
    "matches = re.findall(pattern, readme_content)\n",
    "\n",
    "# Create a formatted list with the extracted information\n",
    "formatted_info = ['\"{0}\", {1}, {2}'.format(match[0], match[1], match[2]) for match in matches]\n",
    "\n",
    "# Join the formatted lines with newline characters\n",
    "formatted_text = '\\n'.join(formatted_info)\n",
    "\n",
    "# Add a top line with title, year, and month\n",
    "title = \"title\"\n",
    "year = \"year\"\n",
    "month = \"month\"\n",
    "top_line = f\"{title}, {year}, {month}\\n\"\n",
    "\n",
    "# Write the modified content back to README.md\n",
    "with open('READMEtest_1.md', 'w') as file:\n",
    "    file.write(top_line + formatted_text)\n",
    "\n",
    "print(\"Processing done\")\n"
   ]
  },
  {
   "cell_type": "code",
   "execution_count": 64,
   "id": "4abe79f7",
   "metadata": {
    "id": "4abe79f7"
   },
   "outputs": [],
   "source": [
    "# process README.md in vim using\n",
    "# :g!/\\* \\[/d\n",
    "# :%s/* \\[\\([^]]*\\)\\]([^0-9]*.\\([0-9][0-9]\\)\\([0-9][0-9]\\).[0-9]*).*$/\"\\1\", \\2, \\3/\n",
    "# :%s/^\\s*//\n",
    "# :g/\\*/d\n",
    "# add top line - title, year, month\n",
    "# save as READMEtest.md\n",
    "df2 = pd.read_csv('READMEtest_1.md')"
   ]
  },
  {
   "cell_type": "code",
   "execution_count": 65,
   "id": "e497299a",
   "metadata": {
    "id": "e497299a"
   },
   "outputs": [
    {
     "name": "stdout",
     "output_type": "stream",
     "text": [
      "<class 'pandas.core.frame.DataFrame'>\n",
      "RangeIndex: 1329 entries, 0 to 1328\n",
      "Data columns (total 3 columns):\n",
      " #   Column  Non-Null Count  Dtype \n",
      "---  ------  --------------  ----- \n",
      " 0   title   1329 non-null   object\n",
      " 1    year   1329 non-null   int64 \n",
      " 2    month  1329 non-null   int64 \n",
      "dtypes: int64(2), object(1)\n",
      "memory usage: 31.3+ KB\n"
     ]
    }
   ],
   "source": [
    "# thanks to the better formatting read_csv finds the column structure and\n",
    "# assigns the names accorinding to the headings provided\n",
    "df2.info()"
   ]
  },
  {
   "cell_type": "code",
   "execution_count": 66,
   "id": "49272f19",
   "metadata": {
    "id": "49272f19"
   },
   "outputs": [],
   "source": [
    "# watch out for the space in ' year' and ' month' - bad preprocessing. Can you fix it?\n",
    "\n",
    "# Remove leading and trailing spaces from column names\n",
    "df2.columns = df2.columns.str.strip()\n",
    "\n",
    "df2['title-clean'] = df2['title'].apply(cleaning)\n",
    "df2['date'] = df2['year'] + (df2['month']-1)/12"
   ]
  },
  {
   "cell_type": "code",
   "execution_count": 67,
   "id": "8e21e396",
   "metadata": {
    "id": "8e21e396",
    "scrolled": true
   },
   "outputs": [
    {
     "name": "stdout",
     "output_type": "stream",
     "text": [
      "<class 'pandas.core.frame.DataFrame'>\n",
      "Index: 311 entries, 40 to 1328\n",
      "Data columns (total 2 columns):\n",
      " #   Column       Non-Null Count  Dtype  \n",
      "---  ------       --------------  -----  \n",
      " 0   title-clean  311 non-null    object \n",
      " 1   date         311 non-null    float64\n",
      "dtypes: float64(1), object(1)\n",
      "memory usage: 7.3+ KB\n"
     ]
    }
   ],
   "source": [
    "# filter by year using df.drop top look at the last year only\n",
    "df2filter_test  = df2.drop(df2[df2['year']<23].index)[['title-clean','date']]\n",
    "df2filter_test.info()"
   ]
  },
  {
   "cell_type": "code",
   "execution_count": 68,
   "id": "f20ababc",
   "metadata": {
    "id": "f20ababc"
   },
   "outputs": [
    {
     "data": {
      "text/plain": [
       "0           learning\n",
       "1             neural\n",
       "2            machine\n",
       "3           networks\n",
       "4            physics\n",
       "5               deep\n",
       "6                jet\n",
       "7           particle\n",
       "8             energy\n",
       "9            network\n",
       "10               lhc\n",
       "11             graph\n",
       "12    reconstruction\n",
       "13              high\n",
       "14        generative\n",
       "15         detection\n",
       "16             event\n",
       "17    classification\n",
       "18           anomaly\n",
       "19            models\n",
       "20           tagging\n",
       "21              data\n",
       "22        simulation\n",
       "23          detector\n",
       "24              fast\n",
       "25              jets\n",
       "26          collider\n",
       "27        collisions\n",
       "28           quantum\n",
       "29            search\n",
       "Name: Word, dtype: object"
      ]
     },
     "execution_count": 68,
     "metadata": {},
     "output_type": "execute_result"
    }
   ],
   "source": [
    "# this is the list of words from before:\n",
    "word_frequency['Word']"
   ]
  },
  {
   "cell_type": "code",
   "execution_count": 69,
   "id": "25becce2",
   "metadata": {
    "id": "25becce2"
   },
   "outputs": [
    {
     "name": "stdout",
     "output_type": "stream",
     "text": [
      "<class 'pandas.core.frame.DataFrame'>\n",
      "Index: 44 entries, 22 to 1297\n",
      "Data columns (total 5 columns):\n",
      " #   Column       Non-Null Count  Dtype  \n",
      "---  ------       --------------  -----  \n",
      " 0   title        44 non-null     object \n",
      " 1   year         44 non-null     int64  \n",
      " 2   month        44 non-null     int64  \n",
      " 3   title-clean  44 non-null     object \n",
      " 4   date         44 non-null     float64\n",
      "dtypes: float64(1), int64(2), object(2)\n",
      "memory usage: 2.1+ KB\n"
     ]
    }
   ],
   "source": [
    "\n",
    "# Lowercase all strings in the DataFrame\n",
    "df2 = df2.apply(lambda x: x.str.lower() if x.dtype == \"object\" else x)\n",
    "\n",
    "# Now you can filter by common title keywords\n",
    "df2filter1 = df2.drop(df2[df2['title-clean'].str.contains(word_frequency['Word'][0]) == False].index)\n",
    "df2filter2 = df2.drop(df2[df2['title-clean'].str.contains(word_frequency['Word'][6]) == False].index)\n",
    "df2filter3 = df2.drop(df2[df2['title-clean'].str.contains(word_frequency['Word'][16]) == False].index)\n",
    "df2filter4 = df2.drop(df2[df2['title-clean'].str.contains(word_frequency['Word'][21]) == False].index)\n",
    "df2filter5 = df2.drop(df2[df2['title-clean'].str.contains(word_frequency['Word'][24]) == False].index)\n",
    "df2filter6 = df2.drop(df2[df2['title-clean'].str.contains(word_frequency['Word'][28]) == False].index)\n",
    "df2filter6.info()"
   ]
  },
  {
   "cell_type": "code",
   "execution_count": 70,
   "id": "2ccff9d7",
   "metadata": {
    "id": "2ccff9d7"
   },
   "outputs": [
    {
     "data": {
      "text/plain": [
       "<matplotlib.legend.Legend at 0x7f6fc37faf50>"
      ]
     },
     "execution_count": 70,
     "metadata": {},
     "output_type": "execute_result"
    },
    {
     "data": {
      "image/png": "[encoded data removed]",
      "text/plain": [
       "<Figure size 640x480 with 1 Axes>"
      ]
     },
     "metadata": {},
     "output_type": "display_data"
    }
   ],
   "source": [
    "# we can plot the appearnces of the most common word from 2010 to 2023\n",
    "mybins = np.histogram_bin_edges(df2filter1['date'], bins=50, range=(10,23))\n",
    "\n",
    "plt.hist(df2filter1['date'], density=False, bins=mybins, alpha=0.5, label=word_frequency['Word'][0])\n",
    "plt.xlim([10,23])\n",
    "plt.xlabel('date')\n",
    "plt.legend(loc='upper left')"
   ]
  },
  {
   "cell_type": "markdown",
   "id": "2e9e508a",
   "metadata": {},
   "source": [
    "# Exercise\n",
    "\n",
    "Make plot of the keywords appearing 6th, 16th, 21st and 28th most frequent of the last 10 years"
   ]
  },
  {
   "cell_type": "code",
   "execution_count": 71,
   "id": "18a1a015",
   "metadata": {},
   "outputs": [
    {
     "data": {
      "text/plain": [
       "<matplotlib.legend.Legend at 0x7f6fc31ed710>"
      ]
     },
     "execution_count": 71,
     "metadata": {},
     "output_type": "execute_result"
    },
    {
     "data": {
      "image/png": "[encoded data removed]",
      "text/plain": [
       "<Figure size 640x480 with 1 Axes>"
      ]
     },
     "metadata": {},
     "output_type": "display_data"
    }
   ],
   "source": [
    "# we can plot the appearnces of the most common word from 2010 to 2023\n",
    "mybins = np.histogram_bin_edges(df2filter1['date'], bins=50, range=(10,23))\n",
    "\n",
    "plt.hist(df2['date'], density=False, bins=mybins, alpha=0.5, label='all')\n",
    "plt.hist(df2filter1['date'], density=False, bins=mybins, alpha=0.5, label=word_frequency['Word'][0])\n",
    "plt.hist(df2filter2['date'], density=False, bins=mybins, alpha=0.5, label=word_frequency['Word'][6])\n",
    "plt.hist(df2filter3['date'], density=False, bins=mybins, alpha=0.5, label=word_frequency['Word'][16])\n",
    "plt.hist(df2filter4['date'], density=False, bins=mybins, alpha=0.5, label=word_frequency['Word'][21])\n",
    "plt.hist(df2filter5['date'], density=False, bins=mybins, alpha=0.5, label=word_frequency['Word'][24])\n",
    "plt.hist(df2filter6['date'], density=False, bins=mybins, alpha=0.5, label=word_frequency['Word'][28])\n",
    "plt.xlim([10,23])\n",
    "plt.xlabel('date')\n",
    "plt.legend(loc='upper left')"
   ]
  }
 ],
 "metadata": {
  "colab": {
   "provenance": []
  },
  "kernelspec": {
   "display_name": "Python 3 (ipykernel)",
   "language": "python",
   "name": "python3"
  },
  "language_info": {
   "codemirror_mode": {
    "name": "ipython",
    "version": 3
   },
   "file_extension": ".py",
   "mimetype": "text/x-python",
   "name": "python",
   "nbconvert_exporter": "python",
   "pygments_lexer": "ipython3",
   "version": "3.11.5"
  }
 },
 "nbformat": 4,
 "nbformat_minor": 5
}
